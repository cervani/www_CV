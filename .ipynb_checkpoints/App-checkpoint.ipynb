{
 "cells": [
  {
   "cell_type": "code",
   "execution_count": 7,
   "id": "22dc6618",
   "metadata": {},
   "outputs": [
    {
     "name": "stderr",
     "output_type": "stream",
     "text": [
      "2024-04-26 20:13:24.492 \n",
      "  \u001b[33m\u001b[1mWarning:\u001b[0m to view this Streamlit app on a browser, run it with the following\n",
      "  command:\n",
      "\n",
      "    streamlit run C:\\Users\\tomcz\\Documents\\Python\\lib\\site-packages\\ipykernel_launcher.py [ARGUMENTS]\n"
     ]
    },
    {
     "data": {
      "text/plain": [
       "DeltaGenerator()"
      ]
     },
     "execution_count": 7,
     "metadata": {},
     "output_type": "execute_result"
    }
   ],
   "source": [
    "from pathlib import Path\n",
    "import streamlit as st\n",
    "from PIL import Image\n",
    "\n",
    "\n",
    "\n",
    "\n",
    "current_dir= Path(_file_).parent if \"_file_\" in locals() else Path.cwd()\n",
    "css_file = current_dir/\"styles\"/\"main.css\"\n",
    "resume_file = current_dir /\"assets\"/\"Tomczyk_G_CV.pdf\"\n",
    "profile_pic = current_dir /\"assets\"/\"PIC.jpg\"\n",
    "\n",
    "\n",
    "PAGE_TITLE = \"TOMCZYK GRZEGORZ CV\"\n",
    "PAGE_ICON =\":wave:\"\n",
    "NAME = \"GREG\"\n",
    "DESCRIPTION = \"DATA LEAD\"\n",
    "EMAIL =\"TOMCZYKGREG@OUTLOOK.COM\"\n",
    "SOCIAL_MEDIA = { \"lINKEDIN\"}\n",
    "\n",
    "\n",
    "\n",
    "\n",
    "st.set_page_config(page_title=PAGE_TITLE, page_icon=PAGE_ICON)\n",
    "\n",
    "st.title ( \"hi\")\n",
    "\n",
    "\n",
    "\n",
    "\n"
   ]
  },
  {
   "cell_type": "markdown",
   "id": "f1cb8e87",
   "metadata": {},
   "source": []
  }
 ],
 "metadata": {
  "kernelspec": {
   "display_name": "Python 3 (ipykernel)",
   "language": "python",
   "name": "python3"
  },
  "language_info": {
   "codemirror_mode": {
    "name": "ipython",
    "version": 3
   },
   "file_extension": ".py",
   "mimetype": "text/x-python",
   "name": "python",
   "nbconvert_exporter": "python",
   "pygments_lexer": "ipython3",
   "version": "3.9.13"
  }
 },
 "nbformat": 4,
 "nbformat_minor": 5
}
